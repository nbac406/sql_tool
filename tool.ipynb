{
 "cells": [
  {
   "cell_type": "code",
   "execution_count": 1,
   "metadata": {},
   "outputs": [],
   "source": [
    "from tkinter import *"
   ]
  },
  {
   "cell_type": "code",
   "execution_count": 7,
   "metadata": {},
   "outputs": [
    {
     "name": "stdout",
     "output_type": "stream",
     "text": [
      "완료\n"
     ]
    }
   ],
   "source": [
    "# 기본 설정\n",
    "root = Tk()\n",
    "root.title(\"Project Tool\")\n",
    "root.geometry(\"640x480\")\n",
    "\n",
    "# 버튼 생성\n",
    "btn1 = Button(root, text = \"버튼1\")\n",
    "btn1.pack()\n",
    "btn2 = Button(root, fg = \"white\", bg = \"black\", text = \"버튼2\")\n",
    "btn2.pack()\n",
    "\n",
    "# 버튼 동작 (함수 생성 후 버튼 참조)\n",
    "def btncmd() : \n",
    "    print(\"완료\")\n",
    "btn3 = Button(root, text = \"실행\", command = btncmd)\n",
    "btn3.pack()\n",
    "\n",
    "# 레이블 설정 \n",
    "label1 = Label(root, text = \"Battle Ground Tool\")\n",
    "\n",
    "\n",
    "root.mainloop()"
   ]
  }
 ],
 "metadata": {
  "kernelspec": {
   "display_name": "Python 3",
   "language": "python",
   "name": "python3"
  },
  "language_info": {
   "codemirror_mode": {
    "name": "ipython",
    "version": 3
   },
   "file_extension": ".py",
   "mimetype": "text/x-python",
   "name": "python",
   "nbconvert_exporter": "python",
   "pygments_lexer": "ipython3",
   "version": "3.10.8"
  },
  "orig_nbformat": 4
 },
 "nbformat": 4,
 "nbformat_minor": 2
}
